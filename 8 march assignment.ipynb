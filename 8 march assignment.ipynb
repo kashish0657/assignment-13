{
 "cells": [
  {
   "cell_type": "markdown",
   "id": "789c5801-5376-4e3a-ae89-09172c43a217",
   "metadata": {},
   "source": [
    "## 8 MARCH ASSIGNMENT"
   ]
  },
  {
   "cell_type": "code",
   "execution_count": null,
   "id": "ec2746a6-779c-4482-b7a2-bddd40254cf0",
   "metadata": {},
   "outputs": [],
   "source": [
    "1:ans:-\n",
    "\n",
    "Probability density function and cumulative distribution function are used to define the distribution of \n",
    "continuous random variables. If we differentiate the cumulative distribution function of a continuous random\n",
    "variable it results in the probability density function. Conversely, on integrating the probability density \n",
    "function we get the cumulative distribution function.\n"
   ]
  },
  {
   "cell_type": "code",
   "execution_count": null,
   "id": "653189f0-a074-4aed-ae30-4f5e895ff24b",
   "metadata": {},
   "outputs": [],
   "source": [
    "2:ans:-\n",
    "\n",
    "There are two types of probability distributions:-\n",
    "    \n",
    "       a: Discrete probability distributions\n",
    "       b: Continuous probability distributions\n",
    "    "
   ]
  },
  {
   "cell_type": "code",
   "execution_count": null,
   "id": "f429357f-597c-4398-8497-08bf0ecbe6f4",
   "metadata": {},
   "outputs": [],
   "source": [
    "3:ans:-\n",
    "\n",
    "from scipy.stats import norm\n",
    "import numpy as np\n",
    "  \n",
    "data_start = -5\n",
    "data_end = 5\n",
    "data_points = 11\n",
    "data = np.linspace(data_start, data_end, data_points)\n",
    "  \n",
    "mean = np.mean(data)\n",
    "std = np.std(data)\n",
    "  \n",
    "probability_pdf = norm.pdf(3, loc=mean, scale=std)\n",
    "print(probability_pdf)\n"
   ]
  },
  {
   "cell_type": "code",
   "execution_count": null,
   "id": "092cd223-4834-4213-9278-1570578df017",
   "metadata": {},
   "outputs": [],
   "source": [
    "4:ans:-\n",
    "\n",
    "The properties of the binomial distribution are:\n",
    "    \n",
    "    There are two possible outcomes: true or false, success or failure, yes or no .\n",
    "    There is 'n' number of independent trials or a fixed number of n times repeated trials. \n",
    "    The probability of success or failure remains the same for each trial.\n",
    "    \n",
    "    For example :-\n",
    "    if we toss a coin, there could be only two possible outcomes: heads or tails, and if any test is taken, \n",
    "    then there could be only two results: pass or fail.\n"
   ]
  },
  {
   "cell_type": "code",
   "execution_count": null,
   "id": "f64b4838-2c03-4ba1-a108-bebade93c032",
   "metadata": {},
   "outputs": [],
   "source": [
    "5:ans:-\n",
    "\n",
    "r = binornd( n , p ) generates random numbers from the binomial distribution specified by the number\n",
    "of trials n and the probability of success for each trial p . n and p can be vectors, matrices,\n",
    "or multidimensional arrays of the same size. Alternatively, one or more arguments can be scalars.\n"
   ]
  },
  {
   "cell_type": "code",
   "execution_count": null,
   "id": "5850c217-ebc1-414e-85b4-37f0d225dda8",
   "metadata": {},
   "outputs": [],
   "source": [
    "6:ans:-\n",
    "\n",
    "from scipy.stats import poisson\n",
    "\n",
    "#generate random values from Poisson distribution with mean=3 and sample size=10\n",
    "poisson.rvs(mu=3, size=10)\n",
    "\n",
    "array([2, 2, 2, 0, 7, 2, 1, 2, 5, 5])\n"
   ]
  },
  {
   "cell_type": "code",
   "execution_count": null,
   "id": "31ab6f59-e14e-46f9-9e04-ecf677b8c0df",
   "metadata": {},
   "outputs": [],
   "source": [
    "7:ans:-\n",
    "\n",
    "Meaning :- Binomial distribution is one in which the probability of repeated number of trials are studied.\n",
    "Nature  :- Biparametric\n",
    "Success\t:- Constant probability\n",
    "Outcomes:- Only two possible outcomes, i.e. success or failure.\n",
    "\n",
    "Meaning :- Poisson Distribution gives the count of independent events occur randomly with a given period of time.\n",
    "Nature  :- Uniparametric\n",
    "Success\t:- Infinitesimal chance of success\n",
    "Outcomes:- Unlimited number of possible outcomes.\n"
   ]
  },
  {
   "cell_type": "code",
   "execution_count": null,
   "id": "03d64d9f-1546-43ed-8ff3-b098f0dc7eb0",
   "metadata": {},
   "outputs": [],
   "source": [
    "8:ans:-\n",
    "\n",
    "For a Poisson distribution, the variance is given by V(X)=λ=rt V ( X ) = λ = r t where λ is the \n",
    "average number of occurrences of the event in the given time period, r is the average rate of the occurrence of the events,\n",
    "and t is the length of the given time period.\n"
   ]
  },
  {
   "cell_type": "code",
   "execution_count": null,
   "id": "d2000e44-c69c-4bd6-90db-512a5ea9371b",
   "metadata": {},
   "outputs": [],
   "source": [
    "9:ans:-\n",
    "\n",
    "The mean and the variance of the Poisson distribution are the same, which is equal to the average number of \n",
    "successes that occur in the given interval of time.\n"
   ]
  },
  {
   "cell_type": "code",
   "execution_count": null,
   "id": "438d72f8-fbbc-4d3f-a43e-3c40699aa2b0",
   "metadata": {},
   "outputs": [],
   "source": [
    "10:ans:-\n",
    "\n",
    "The normal distribution is also referred to as Gaussian or Gauss distribution. The distribution\n",
    "is widely used in natural and social sciences. It is made relevant by the Central Limit Theorem,\n",
    "which states that the averages obtained from independent, identically distributed random variables \n",
    "tend to form normal distributions, regardless of the type of distributions they are sampled from.\n",
    "\n"
   ]
  }
 ],
 "metadata": {
  "kernelspec": {
   "display_name": "Python 3 (ipykernel)",
   "language": "python",
   "name": "python3"
  },
  "language_info": {
   "codemirror_mode": {
    "name": "ipython",
    "version": 3
   },
   "file_extension": ".py",
   "mimetype": "text/x-python",
   "name": "python",
   "nbconvert_exporter": "python",
   "pygments_lexer": "ipython3",
   "version": "3.10.8"
  }
 },
 "nbformat": 4,
 "nbformat_minor": 5
}
